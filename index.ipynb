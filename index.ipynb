{
 "cells": [
  {
   "cell_type": "code",
   "execution_count": 1,
   "id": "87ba46f8-007e-4608-ab7b-ecc1fc02912a",
   "metadata": {},
   "outputs": [],
   "source": [
    "#!pip install opensearch-py"
   ]
  },
  {
   "cell_type": "code",
   "execution_count": 2,
   "id": "e8d87f0c-98ca-4704-b43c-10f231bd9ac7",
   "metadata": {},
   "outputs": [],
   "source": [
    "import boto3\n",
    "import re\n",
    "from datetime import datetime\n",
    "from opensearchpy import OpenSearch\n",
    "from opensearchpy.helpers import bulk"
   ]
  },
  {
   "cell_type": "code",
   "execution_count": 3,
   "id": "3e247c57-224c-4926-9a17-56b816b261df",
   "metadata": {},
   "outputs": [],
   "source": [
    "# initialize sqs\n",
    "sqs_url = \"https://sqs.us-east-1.amazonaws.com/874526227640/slurm-monitor-capture-job-01\"\n",
    "sqs_batch_size = 2\n",
    "sqs_wait_time = 20\n",
    "\n",
    "sqs = boto3.resource(\"sqs\")\n",
    "queue = sqs.Queue(sqs_url)\n",
    "\n",
    "# openSearch domain\n",
    "host = \"search-slurm-monitor-utfpp72lqvdxwatjsnmdlmyqye.us-east-1.es.amazonaws.com\"\n",
    "port = 443\n",
    "auth = ('admin', 'OpenSearch1#')\n",
    "\n",
    "openSearch = OpenSearch(\n",
    "    hosts=[{'host': host, 'port': port}],\n",
    "    http_compress=True,\n",
    "    http_auth=auth,\n",
    "    use_ssl=True,\n",
    "    verify_certs=False,\n",
    "    ssl_assert_hostname=False,\n",
    "    ssl_show_warn=False)"
   ]
  },
  {
   "cell_type": "code",
   "execution_count": 4,
   "id": "8ac304c1-703c-47c9-8169-dfdc84373602",
   "metadata": {},
   "outputs": [],
   "source": [
    "# receive one batch of messages from sqs\n",
    "def receive_sqs_messages():\n",
    "    messages = queue.receive_messages(\n",
    "        MaxNumberOfMessages=sqs_batch_size,\n",
    "        AttributeNames=[\"All\"],\n",
    "        MessageAttributeNames=[\"All\"],\n",
    "        WaitTimeSeconds=sqs_wait_time\n",
    "    )\n",
    "\n",
    "    size = len(messages)\n",
    "    if size > 0:\n",
    "        for m in messages:\n",
    "            if m.attributes is not None:\n",
    "                capture_ts = datetime.fromtimestamp(int(m.attributes.get('SentTimestamp'))/1000)\n",
    "                index_suffix = capture_ts.strftime('%Y%m')\n",
    "            if m.message_attributes is not None:\n",
    "                capture_src = m.message_attributes.get('capture_src').get('StringValue')\n",
    "\n",
    "            if len(capture_src) > 0:\n",
    "                do_indexing(parse(m.body, capture_ts), capture_src, index_suffix)\n",
    "                m.delete()"
   ]
  },
  {
   "cell_type": "code",
   "execution_count": 5,
   "id": "6bce581f-daac-45a8-bf1d-55c66beafa56",
   "metadata": {
    "tags": []
   },
   "outputs": [],
   "source": [
    "def parse(body, capture_ts):\n",
    "    jobs = []\n",
    "    job = {}\n",
    "    pattern = re.compile(r\"(.+?=.*?)\\s+\")\n",
    "    for match in pattern.finditer(body):\n",
    "        item = re.split(\"=\", match.group(1), 1)\n",
    "        if (item[0] == 'JobId') and (len(job) > 0):\n",
    "            job['capture_ts'] = capture_ts\n",
    "            jobs.append(job)\n",
    "            job = {}\n",
    "\n",
    "        match len(item):\n",
    "            case 2:\n",
    "                job[item[0]] = item[1]\n",
    "\n",
    "            case 1:\n",
    "                job[item[0]] = None\n",
    "\n",
    "            case _:\n",
    "                print(\"invalid item: {}\".format(item))\n",
    "\n",
    "    if len(job) > 0:\n",
    "        job['capture_ts'] = capture_ts\n",
    "        jobs.append(job)\n",
    "\n",
    "    return jobs"
   ]
  },
  {
   "cell_type": "code",
   "execution_count": 6,
   "id": "f8a97f18-e2be-4f89-87a6-101a59afc2f6",
   "metadata": {},
   "outputs": [],
   "source": [
    "def do_indexing(jobs, capture_src, index_suffix):\n",
    "    indexName = 'sm-{}-{}'.format(capture_src, index_suffix)\n",
    "    if not openSearch.indices.exists(indexName):\n",
    "        do_create_index(indexName)\n",
    "\n",
    "    actions = []\n",
    "    for document in jobs:\n",
    "        actions.append({\n",
    "            \"_op_type\": \"index\", \n",
    "            \"_index\": indexName,\n",
    "            \"_source\": document\n",
    "        })\n",
    "\n",
    "    success, failed = bulk(openSearch, actions)\n",
    "    if len(failed) > 0:\n",
    "        print('{} bulk: success={} | failed={}'.format(datetime.now(), success, failed))"
   ]
  },
  {
   "cell_type": "code",
   "execution_count": 7,
   "id": "b11eda64-d14d-4ba8-a966-12745de12bb9",
   "metadata": {},
   "outputs": [],
   "source": [
    "# create index \n",
    "def do_create_index(indexName):\n",
    "    openSearch.indices.create(index=indexName)\n",
    "    print('{} index [{}] created'.format(datetime.now(), indexName))"
   ]
  },
  {
   "cell_type": "code",
   "execution_count": 8,
   "id": "20307afa-a11b-4fee-8444-0650fa83dd49",
   "metadata": {
    "tags": []
   },
   "outputs": [],
   "source": [
    "receive_sqs_messages()\n",
    "openSearch.close()"
   ]
  }
 ],
 "metadata": {
  "kernelspec": {
   "display_name": "conda_python3",
   "language": "python",
   "name": "conda_python3"
  },
  "language_info": {
   "codemirror_mode": {
    "name": "ipython",
    "version": 3
   },
   "file_extension": ".py",
   "mimetype": "text/x-python",
   "name": "python",
   "nbconvert_exporter": "python",
   "pygments_lexer": "ipython3",
   "version": "3.10.13"
  }
 },
 "nbformat": 4,
 "nbformat_minor": 5
}
